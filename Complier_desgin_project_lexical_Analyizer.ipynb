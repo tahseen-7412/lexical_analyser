{
  "nbformat": 4,
  "nbformat_minor": 0,
  "metadata": {
    "colab": {
      "provenance": []
    },
    "kernelspec": {
      "name": "python3",
      "display_name": "Python 3"
    },
    "language_info": {
      "name": "python"
    }
  },
  "cells": [
    {
      "cell_type": "code",
      "execution_count": 1,
      "metadata": {
        "colab": {
          "base_uri": "https://localhost:8080/"
        },
        "id": "iM0sSnROUvsZ",
        "outputId": "5e9355fc-ed59-4fad-8940-0d48a2146e0f"
      },
      "outputs": [
        {
          "output_type": "stream",
          "name": "stdout",
          "text": [
            "Enter Your Code: int a,b=0;\n",
            "['int', 'a', ',', 'b', '=', '0', ';']\n",
            "int -------> Keyword\n",
            "a -------> Identifiers\n",
            ", -------> Special Character/Symbol\n",
            "b -------> Identifiers\n",
            "= -------> Operator\n",
            "0 -------> Numeral\n",
            "; -------> Special Character/Symbol\n"
          ]
        }
      ],
      "source": [
        "import re\n",
        "\n",
        "import nltk\n",
        "\n",
        "input_program = input(\"Enter Your Code: \");\n",
        "input_program_tokens = nltk.wordpunct_tokenize(input_program);\n",
        "\n",
        "print(input_program_tokens);\n",
        "\n",
        "\n",
        "RE_Keywords = \"auto|break|case|char|const|continue|default|do|double|else|enum|extern|float|for|goto|if|int|long|register|return|short|signed|sizeof|static|struct|switch|typedef|union|unsigned|void|volatile|while|string|class|struc|include\"\n",
        "RE_Operators = \"(\\++)|(-)|(=)|(\\*)|(/)|(%)|(--)|(<=)|(>=)\"\n",
        "RE_Numerals = \"^(\\d+)$\"\n",
        "RE_Special_Characters = \"[\\[@&~!#$\\^\\|{}\\]:;<>?,\\.']|\\(\\)|\\(|\\)|{}|\\[\\]|\\\"\"\n",
        "RE_Identifiers = \"^[a-zA-Z_]+[a-zA-Z0-9_]*\"\n",
        "RE_Headers = \"([a-zA-Z]+\\.[h])\"\n",
        "\n",
        "\n",
        "#To Categorize The Tokens\n",
        "\n",
        "for token in input_program_tokens:\n",
        "    if(re.findall(RE_Keywords,token)):\n",
        "        print(token , \"-------> Keyword\")\n",
        "    elif(re.findall(RE_Operators,token)):\n",
        "        print(token, \"-------> Operator\")\n",
        "    elif(re.findall(RE_Numerals,token)):\n",
        "        print(token, \"-------> Numeral\")\n",
        "    elif(re.findall(RE_Special_Characters,token)):\n",
        "        print(token, \"-------> Special Character/Symbol\")\n",
        "    elif(re.findall(RE_Identifiers,token)):\n",
        "        print(token, \"-------> Identifiers\")\n",
        "    else:\n",
        "        print(\"Unknown Value\")"
      ]
    }
  ]
}